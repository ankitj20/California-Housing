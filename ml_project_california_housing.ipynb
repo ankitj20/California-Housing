{
 "cells": [
  {
   "cell_type": "markdown",
   "id": "340ebcfb",
   "metadata": {},
   "source": [
    "In this project we will be using California housing prices dataset. We will be predicting value of houses, by taking other attributes as input. \n",
    "\n",
    "Link for the dataset https://www.kaggle.com/datasets/camnugent/california-housing-prices\n",
    "    \n",
    "This is a regression problem, we will be using root mean square error as performance measure. "
   ]
  },
  {
   "cell_type": "code",
   "execution_count": 1,
   "id": "f37e6444",
   "metadata": {
    "ExecuteTime": {
     "end_time": "2023-06-27T12:51:12.492120Z",
     "start_time": "2023-06-27T12:51:08.459640Z"
    }
   },
   "outputs": [],
   "source": [
    "import pandas as pd\n",
    "import numpy as np\n",
    "import matplotlib.pyplot as plt"
   ]
  },
  {
   "cell_type": "code",
   "execution_count": 2,
   "id": "172f1d38",
   "metadata": {
    "ExecuteTime": {
     "end_time": "2023-06-27T12:51:12.614122Z",
     "start_time": "2023-06-27T12:51:12.498972Z"
    }
   },
   "outputs": [
    {
     "data": {
      "text/html": [
       "<div>\n",
       "<style scoped>\n",
       "    .dataframe tbody tr th:only-of-type {\n",
       "        vertical-align: middle;\n",
       "    }\n",
       "\n",
       "    .dataframe tbody tr th {\n",
       "        vertical-align: top;\n",
       "    }\n",
       "\n",
       "    .dataframe thead th {\n",
       "        text-align: right;\n",
       "    }\n",
       "</style>\n",
       "<table border=\"1\" class=\"dataframe\">\n",
       "  <thead>\n",
       "    <tr style=\"text-align: right;\">\n",
       "      <th></th>\n",
       "      <th>longitude</th>\n",
       "      <th>latitude</th>\n",
       "      <th>housing_median_age</th>\n",
       "      <th>total_rooms</th>\n",
       "      <th>total_bedrooms</th>\n",
       "      <th>population</th>\n",
       "      <th>households</th>\n",
       "      <th>median_income</th>\n",
       "      <th>median_house_value</th>\n",
       "      <th>ocean_proximity</th>\n",
       "    </tr>\n",
       "  </thead>\n",
       "  <tbody>\n",
       "    <tr>\n",
       "      <th>0</th>\n",
       "      <td>-122.23</td>\n",
       "      <td>37.88</td>\n",
       "      <td>41.0</td>\n",
       "      <td>880.0</td>\n",
       "      <td>129.0</td>\n",
       "      <td>322.0</td>\n",
       "      <td>126.0</td>\n",
       "      <td>8.3252</td>\n",
       "      <td>452600.0</td>\n",
       "      <td>NEAR BAY</td>\n",
       "    </tr>\n",
       "    <tr>\n",
       "      <th>1</th>\n",
       "      <td>-122.22</td>\n",
       "      <td>37.86</td>\n",
       "      <td>21.0</td>\n",
       "      <td>7099.0</td>\n",
       "      <td>1106.0</td>\n",
       "      <td>2401.0</td>\n",
       "      <td>1138.0</td>\n",
       "      <td>8.3014</td>\n",
       "      <td>358500.0</td>\n",
       "      <td>NEAR BAY</td>\n",
       "    </tr>\n",
       "    <tr>\n",
       "      <th>2</th>\n",
       "      <td>-122.24</td>\n",
       "      <td>37.85</td>\n",
       "      <td>52.0</td>\n",
       "      <td>1467.0</td>\n",
       "      <td>190.0</td>\n",
       "      <td>496.0</td>\n",
       "      <td>177.0</td>\n",
       "      <td>7.2574</td>\n",
       "      <td>352100.0</td>\n",
       "      <td>NEAR BAY</td>\n",
       "    </tr>\n",
       "    <tr>\n",
       "      <th>3</th>\n",
       "      <td>-122.25</td>\n",
       "      <td>37.85</td>\n",
       "      <td>52.0</td>\n",
       "      <td>1274.0</td>\n",
       "      <td>235.0</td>\n",
       "      <td>558.0</td>\n",
       "      <td>219.0</td>\n",
       "      <td>5.6431</td>\n",
       "      <td>341300.0</td>\n",
       "      <td>NEAR BAY</td>\n",
       "    </tr>\n",
       "    <tr>\n",
       "      <th>4</th>\n",
       "      <td>-122.25</td>\n",
       "      <td>37.85</td>\n",
       "      <td>52.0</td>\n",
       "      <td>1627.0</td>\n",
       "      <td>280.0</td>\n",
       "      <td>565.0</td>\n",
       "      <td>259.0</td>\n",
       "      <td>3.8462</td>\n",
       "      <td>342200.0</td>\n",
       "      <td>NEAR BAY</td>\n",
       "    </tr>\n",
       "    <tr>\n",
       "      <th>5</th>\n",
       "      <td>-122.25</td>\n",
       "      <td>37.85</td>\n",
       "      <td>52.0</td>\n",
       "      <td>919.0</td>\n",
       "      <td>213.0</td>\n",
       "      <td>413.0</td>\n",
       "      <td>193.0</td>\n",
       "      <td>4.0368</td>\n",
       "      <td>269700.0</td>\n",
       "      <td>NEAR BAY</td>\n",
       "    </tr>\n",
       "    <tr>\n",
       "      <th>6</th>\n",
       "      <td>-122.25</td>\n",
       "      <td>37.84</td>\n",
       "      <td>52.0</td>\n",
       "      <td>2535.0</td>\n",
       "      <td>489.0</td>\n",
       "      <td>1094.0</td>\n",
       "      <td>514.0</td>\n",
       "      <td>3.6591</td>\n",
       "      <td>299200.0</td>\n",
       "      <td>NEAR BAY</td>\n",
       "    </tr>\n",
       "    <tr>\n",
       "      <th>7</th>\n",
       "      <td>-122.25</td>\n",
       "      <td>37.84</td>\n",
       "      <td>52.0</td>\n",
       "      <td>3104.0</td>\n",
       "      <td>687.0</td>\n",
       "      <td>1157.0</td>\n",
       "      <td>647.0</td>\n",
       "      <td>3.1200</td>\n",
       "      <td>241400.0</td>\n",
       "      <td>NEAR BAY</td>\n",
       "    </tr>\n",
       "    <tr>\n",
       "      <th>8</th>\n",
       "      <td>-122.26</td>\n",
       "      <td>37.84</td>\n",
       "      <td>42.0</td>\n",
       "      <td>2555.0</td>\n",
       "      <td>665.0</td>\n",
       "      <td>1206.0</td>\n",
       "      <td>595.0</td>\n",
       "      <td>2.0804</td>\n",
       "      <td>226700.0</td>\n",
       "      <td>NEAR BAY</td>\n",
       "    </tr>\n",
       "    <tr>\n",
       "      <th>9</th>\n",
       "      <td>-122.25</td>\n",
       "      <td>37.84</td>\n",
       "      <td>52.0</td>\n",
       "      <td>3549.0</td>\n",
       "      <td>707.0</td>\n",
       "      <td>1551.0</td>\n",
       "      <td>714.0</td>\n",
       "      <td>3.6912</td>\n",
       "      <td>261100.0</td>\n",
       "      <td>NEAR BAY</td>\n",
       "    </tr>\n",
       "  </tbody>\n",
       "</table>\n",
       "</div>"
      ],
      "text/plain": [
       "   longitude  latitude  housing_median_age  total_rooms  total_bedrooms  \\\n",
       "0    -122.23     37.88                41.0        880.0           129.0   \n",
       "1    -122.22     37.86                21.0       7099.0          1106.0   \n",
       "2    -122.24     37.85                52.0       1467.0           190.0   \n",
       "3    -122.25     37.85                52.0       1274.0           235.0   \n",
       "4    -122.25     37.85                52.0       1627.0           280.0   \n",
       "5    -122.25     37.85                52.0        919.0           213.0   \n",
       "6    -122.25     37.84                52.0       2535.0           489.0   \n",
       "7    -122.25     37.84                52.0       3104.0           687.0   \n",
       "8    -122.26     37.84                42.0       2555.0           665.0   \n",
       "9    -122.25     37.84                52.0       3549.0           707.0   \n",
       "\n",
       "   population  households  median_income  median_house_value ocean_proximity  \n",
       "0       322.0       126.0         8.3252            452600.0        NEAR BAY  \n",
       "1      2401.0      1138.0         8.3014            358500.0        NEAR BAY  \n",
       "2       496.0       177.0         7.2574            352100.0        NEAR BAY  \n",
       "3       558.0       219.0         5.6431            341300.0        NEAR BAY  \n",
       "4       565.0       259.0         3.8462            342200.0        NEAR BAY  \n",
       "5       413.0       193.0         4.0368            269700.0        NEAR BAY  \n",
       "6      1094.0       514.0         3.6591            299200.0        NEAR BAY  \n",
       "7      1157.0       647.0         3.1200            241400.0        NEAR BAY  \n",
       "8      1206.0       595.0         2.0804            226700.0        NEAR BAY  \n",
       "9      1551.0       714.0         3.6912            261100.0        NEAR BAY  "
      ]
     },
     "execution_count": 2,
     "metadata": {},
     "output_type": "execute_result"
    }
   ],
   "source": [
    "housing = pd.read_csv(\"california_housing.csv\")\n",
    "housing.head(10)"
   ]
  },
  {
   "cell_type": "code",
   "execution_count": 3,
   "id": "558696a3",
   "metadata": {
    "ExecuteTime": {
     "end_time": "2023-06-27T12:51:12.656678Z",
     "start_time": "2023-06-27T12:51:12.617982Z"
    }
   },
   "outputs": [
    {
     "name": "stdout",
     "output_type": "stream",
     "text": [
      "<class 'pandas.core.frame.DataFrame'>\n",
      "RangeIndex: 20640 entries, 0 to 20639\n",
      "Data columns (total 10 columns):\n",
      " #   Column              Non-Null Count  Dtype  \n",
      "---  ------              --------------  -----  \n",
      " 0   longitude           20640 non-null  float64\n",
      " 1   latitude            20640 non-null  float64\n",
      " 2   housing_median_age  20640 non-null  float64\n",
      " 3   total_rooms         20640 non-null  float64\n",
      " 4   total_bedrooms      20433 non-null  float64\n",
      " 5   population          20640 non-null  float64\n",
      " 6   households          20640 non-null  float64\n",
      " 7   median_income       20640 non-null  float64\n",
      " 8   median_house_value  20640 non-null  float64\n",
      " 9   ocean_proximity     20640 non-null  object \n",
      "dtypes: float64(9), object(1)\n",
      "memory usage: 1.6+ MB\n"
     ]
    }
   ],
   "source": [
    "housing.info()"
   ]
  },
  {
   "cell_type": "code",
   "execution_count": 4,
   "id": "de04adc4",
   "metadata": {
    "ExecuteTime": {
     "end_time": "2023-06-27T12:51:12.753428Z",
     "start_time": "2023-06-27T12:51:12.662908Z"
    }
   },
   "outputs": [
    {
     "data": {
      "text/html": [
       "<div>\n",
       "<style scoped>\n",
       "    .dataframe tbody tr th:only-of-type {\n",
       "        vertical-align: middle;\n",
       "    }\n",
       "\n",
       "    .dataframe tbody tr th {\n",
       "        vertical-align: top;\n",
       "    }\n",
       "\n",
       "    .dataframe thead th {\n",
       "        text-align: right;\n",
       "    }\n",
       "</style>\n",
       "<table border=\"1\" class=\"dataframe\">\n",
       "  <thead>\n",
       "    <tr style=\"text-align: right;\">\n",
       "      <th></th>\n",
       "      <th>longitude</th>\n",
       "      <th>latitude</th>\n",
       "      <th>housing_median_age</th>\n",
       "      <th>total_rooms</th>\n",
       "      <th>total_bedrooms</th>\n",
       "      <th>population</th>\n",
       "      <th>households</th>\n",
       "      <th>median_income</th>\n",
       "      <th>median_house_value</th>\n",
       "    </tr>\n",
       "  </thead>\n",
       "  <tbody>\n",
       "    <tr>\n",
       "      <th>count</th>\n",
       "      <td>20640.000000</td>\n",
       "      <td>20640.000000</td>\n",
       "      <td>20640.000000</td>\n",
       "      <td>20640.000000</td>\n",
       "      <td>20433.000000</td>\n",
       "      <td>20640.000000</td>\n",
       "      <td>20640.000000</td>\n",
       "      <td>20640.000000</td>\n",
       "      <td>20640.000000</td>\n",
       "    </tr>\n",
       "    <tr>\n",
       "      <th>mean</th>\n",
       "      <td>-119.569704</td>\n",
       "      <td>35.631861</td>\n",
       "      <td>28.639486</td>\n",
       "      <td>2635.763081</td>\n",
       "      <td>537.870553</td>\n",
       "      <td>1425.476744</td>\n",
       "      <td>499.539680</td>\n",
       "      <td>3.870671</td>\n",
       "      <td>206855.816909</td>\n",
       "    </tr>\n",
       "    <tr>\n",
       "      <th>std</th>\n",
       "      <td>2.003532</td>\n",
       "      <td>2.135952</td>\n",
       "      <td>12.585558</td>\n",
       "      <td>2181.615252</td>\n",
       "      <td>421.385070</td>\n",
       "      <td>1132.462122</td>\n",
       "      <td>382.329753</td>\n",
       "      <td>1.899822</td>\n",
       "      <td>115395.615874</td>\n",
       "    </tr>\n",
       "    <tr>\n",
       "      <th>min</th>\n",
       "      <td>-124.350000</td>\n",
       "      <td>32.540000</td>\n",
       "      <td>1.000000</td>\n",
       "      <td>2.000000</td>\n",
       "      <td>1.000000</td>\n",
       "      <td>3.000000</td>\n",
       "      <td>1.000000</td>\n",
       "      <td>0.499900</td>\n",
       "      <td>14999.000000</td>\n",
       "    </tr>\n",
       "    <tr>\n",
       "      <th>25%</th>\n",
       "      <td>-121.800000</td>\n",
       "      <td>33.930000</td>\n",
       "      <td>18.000000</td>\n",
       "      <td>1447.750000</td>\n",
       "      <td>296.000000</td>\n",
       "      <td>787.000000</td>\n",
       "      <td>280.000000</td>\n",
       "      <td>2.563400</td>\n",
       "      <td>119600.000000</td>\n",
       "    </tr>\n",
       "    <tr>\n",
       "      <th>50%</th>\n",
       "      <td>-118.490000</td>\n",
       "      <td>34.260000</td>\n",
       "      <td>29.000000</td>\n",
       "      <td>2127.000000</td>\n",
       "      <td>435.000000</td>\n",
       "      <td>1166.000000</td>\n",
       "      <td>409.000000</td>\n",
       "      <td>3.534800</td>\n",
       "      <td>179700.000000</td>\n",
       "    </tr>\n",
       "    <tr>\n",
       "      <th>75%</th>\n",
       "      <td>-118.010000</td>\n",
       "      <td>37.710000</td>\n",
       "      <td>37.000000</td>\n",
       "      <td>3148.000000</td>\n",
       "      <td>647.000000</td>\n",
       "      <td>1725.000000</td>\n",
       "      <td>605.000000</td>\n",
       "      <td>4.743250</td>\n",
       "      <td>264725.000000</td>\n",
       "    </tr>\n",
       "    <tr>\n",
       "      <th>max</th>\n",
       "      <td>-114.310000</td>\n",
       "      <td>41.950000</td>\n",
       "      <td>52.000000</td>\n",
       "      <td>39320.000000</td>\n",
       "      <td>6445.000000</td>\n",
       "      <td>35682.000000</td>\n",
       "      <td>6082.000000</td>\n",
       "      <td>15.000100</td>\n",
       "      <td>500001.000000</td>\n",
       "    </tr>\n",
       "  </tbody>\n",
       "</table>\n",
       "</div>"
      ],
      "text/plain": [
       "          longitude      latitude  housing_median_age   total_rooms  \\\n",
       "count  20640.000000  20640.000000        20640.000000  20640.000000   \n",
       "mean    -119.569704     35.631861           28.639486   2635.763081   \n",
       "std        2.003532      2.135952           12.585558   2181.615252   \n",
       "min     -124.350000     32.540000            1.000000      2.000000   \n",
       "25%     -121.800000     33.930000           18.000000   1447.750000   \n",
       "50%     -118.490000     34.260000           29.000000   2127.000000   \n",
       "75%     -118.010000     37.710000           37.000000   3148.000000   \n",
       "max     -114.310000     41.950000           52.000000  39320.000000   \n",
       "\n",
       "       total_bedrooms    population    households  median_income  \\\n",
       "count    20433.000000  20640.000000  20640.000000   20640.000000   \n",
       "mean       537.870553   1425.476744    499.539680       3.870671   \n",
       "std        421.385070   1132.462122    382.329753       1.899822   \n",
       "min          1.000000      3.000000      1.000000       0.499900   \n",
       "25%        296.000000    787.000000    280.000000       2.563400   \n",
       "50%        435.000000   1166.000000    409.000000       3.534800   \n",
       "75%        647.000000   1725.000000    605.000000       4.743250   \n",
       "max       6445.000000  35682.000000   6082.000000      15.000100   \n",
       "\n",
       "       median_house_value  \n",
       "count        20640.000000  \n",
       "mean        206855.816909  \n",
       "std         115395.615874  \n",
       "min          14999.000000  \n",
       "25%         119600.000000  \n",
       "50%         179700.000000  \n",
       "75%         264725.000000  \n",
       "max         500001.000000  "
      ]
     },
     "execution_count": 4,
     "metadata": {},
     "output_type": "execute_result"
    }
   ],
   "source": [
    "housing.describe()"
   ]
  },
  {
   "cell_type": "code",
   "execution_count": 5,
   "id": "8943d521",
   "metadata": {
    "ExecuteTime": {
     "end_time": "2023-06-27T12:51:12.789967Z",
     "start_time": "2023-06-27T12:51:12.757083Z"
    }
   },
   "outputs": [
    {
     "data": {
      "text/plain": [
       "<1H OCEAN     9136\n",
       "INLAND        6551\n",
       "NEAR OCEAN    2658\n",
       "NEAR BAY      2290\n",
       "ISLAND           5\n",
       "Name: ocean_proximity, dtype: int64"
      ]
     },
     "execution_count": 5,
     "metadata": {},
     "output_type": "execute_result"
    }
   ],
   "source": [
    "housing[\"ocean_proximity\"].value_counts()"
   ]
  },
  {
   "cell_type": "code",
   "execution_count": 6,
   "id": "7441502c",
   "metadata": {
    "ExecuteTime": {
     "end_time": "2023-06-27T12:51:18.475020Z",
     "start_time": "2023-06-27T12:51:12.793488Z"
    }
   },
   "outputs": [
    {
     "data": {
      "image/png": "[encoded data removed]",
      "text/plain": [
       "<Figure size 1440x720 with 9 Axes>"
      ]
     },
     "metadata": {
      "needs_background": "light"
     },
     "output_type": "display_data"
    }
   ],
   "source": [
    "housing.hist(bins=100, figsize=(20,10))\n",
    "plt.show()"
   ]
  },
  {
   "cell_type": "markdown",
   "id": "35542adf",
   "metadata": {},
   "source": [
    "By taking a quick look at the data, we can see that, ocean_proximity is a categorical attribute with string values, total_bedrooms has missing values, and we can see from graphs that the scale of the attribute is different for each other, so we will have to scale them before feeding them to the models, and also the data is skewed, we will also have total_bedrooms take care of it. "
   ]
  },
  {
   "cell_type": "markdown",
   "id": "441fe1a3",
   "metadata": {},
   "source": [
    "# Creating test set"
   ]
  },
  {
   "cell_type": "markdown",
   "id": "22e9060d",
   "metadata": {},
   "source": [
    "Take a look at the median_income histogram, most of the data is centered in the range of 0 to 7, but some of the values are present even beyond 10. Now, since income is a important factor in deciding which house to buy, we must make sure that both test set and training set has equal distribution of median_income. To do this we will be using StratifiedShuffleSplit. "
   ]
  },
  {
   "cell_type": "code",
   "execution_count": 7,
   "id": "90d87379",
   "metadata": {
    "ExecuteTime": {
     "end_time": "2023-06-27T12:51:18.498738Z",
     "start_time": "2023-06-27T12:51:18.478539Z"
    }
   },
   "outputs": [],
   "source": [
    "housing[\"income_cat\"] = pd.cut(housing[\"median_income\"], bins=[0., 1.5, 3.0, 4.5, 6.,7.5, np.inf], labels=[1, 2, 3, 4, 5,6])"
   ]
  },
  {
   "cell_type": "code",
   "execution_count": 8,
   "id": "d14e3256",
   "metadata": {
    "ExecuteTime": {
     "end_time": "2023-06-27T12:51:20.739613Z",
     "start_time": "2023-06-27T12:51:18.501760Z"
    }
   },
   "outputs": [
    {
     "name": "stderr",
     "output_type": "stream",
     "text": [
      "C:\\Users\\Ankit\\AppData\\Local\\Temp\\ipykernel_14620\\3036143847.py:8: SettingWithCopyWarning: \n",
      "A value is trying to be set on a copy of a slice from a DataFrame\n",
      "\n",
      "See the caveats in the documentation: https://pandas.pydata.org/pandas-docs/stable/user_guide/indexing.html#returning-a-view-versus-a-copy\n",
      "  strat_test_set.drop(\"income_cat\", axis=1, inplace=True)\n",
      "C:\\Users\\Ankit\\AppData\\Local\\Temp\\ipykernel_14620\\3036143847.py:9: SettingWithCopyWarning: \n",
      "A value is trying to be set on a copy of a slice from a DataFrame\n",
      "\n",
      "See the caveats in the documentation: https://pandas.pydata.org/pandas-docs/stable/user_guide/indexing.html#returning-a-view-versus-a-copy\n",
      "  strat_train_set.drop(\"income_cat\", axis=1, inplace=True)\n"
     ]
    }
   ],
   "source": [
    "from sklearn.model_selection import StratifiedShuffleSplit\n",
    "split = StratifiedShuffleSplit(n_splits=1, test_size=0.2, random_state=42)\n",
    "\n",
    "for train_index, test_index in split.split(housing, housing[\"income_cat\"]):\n",
    "    strat_train_set = housing.iloc[train_index]\n",
    "    strat_test_set = housing.iloc[test_index]\n",
    "    \n",
    "strat_test_set.drop(\"income_cat\", axis=1, inplace=True)\n",
    "strat_train_set.drop(\"income_cat\", axis=1, inplace=True)"
   ]
  },
  {
   "cell_type": "markdown",
   "id": "86ac2a7d",
   "metadata": {},
   "source": [
    "# Exploring data"
   ]
  },
  {
   "cell_type": "code",
   "execution_count": 9,
   "id": "bb0061a8",
   "metadata": {
    "ExecuteTime": {
     "end_time": "2023-06-27T12:51:20.755467Z",
     "start_time": "2023-06-27T12:51:20.744147Z"
    }
   },
   "outputs": [],
   "source": [
    "housing = strat_train_set.copy()"
   ]
  },
  {
   "cell_type": "code",
   "execution_count": 10,
   "id": "3ff4cca4",
   "metadata": {
    "ExecuteTime": {
     "end_time": "2023-06-27T12:51:20.801950Z",
     "start_time": "2023-06-27T12:51:20.766179Z"
    }
   },
   "outputs": [
    {
     "data": {
      "text/plain": [
       "median_house_value    1.000000\n",
       "median_income         0.685600\n",
       "total_rooms           0.135386\n",
       "housing_median_age    0.111570\n",
       "households            0.066012\n",
       "total_bedrooms        0.048975\n",
       "population           -0.024114\n",
       "longitude            -0.045270\n",
       "latitude             -0.144204\n",
       "Name: median_house_value, dtype: float64"
      ]
     },
     "execution_count": 10,
     "metadata": {},
     "output_type": "execute_result"
    }
   ],
   "source": [
    "# calculating correlation matrix\n",
    "corr_matrix = housing.corr()\n",
    "corr_matrix[\"median_house_value\"].sort_values(ascending=False)"
   ]
  },
  {
   "cell_type": "markdown",
   "id": "42dfaa64",
   "metadata": {},
   "source": [
    "As we can see that median_house_value has positive correlation with median_income, we can try to make new attributes, which we will have a stronger correlation with median_house_value. The main things which affect the price of a house are the number of rooms in house, and number of bedrooms. We should try to make these attributes, and observe their correlation with median_house_value. "
   ]
  },
  {
   "cell_type": "code",
   "execution_count": 11,
   "id": "c6c80868",
   "metadata": {
    "ExecuteTime": {
     "end_time": "2023-06-27T12:51:20.851465Z",
     "start_time": "2023-06-27T12:51:20.805324Z"
    }
   },
   "outputs": [
    {
     "data": {
      "text/plain": [
       "median_house_value    1.000000\n",
       "median_income         0.685600\n",
       "rooms_house           0.144217\n",
       "total_rooms           0.135386\n",
       "housing_median_age    0.111570\n",
       "households            0.066012\n",
       "total_bedrooms        0.048975\n",
       "population           -0.024114\n",
       "longitude            -0.045270\n",
       "latitude             -0.144204\n",
       "bedrooms_house       -0.258208\n",
       "Name: median_house_value, dtype: float64"
      ]
     },
     "execution_count": 11,
     "metadata": {},
     "output_type": "execute_result"
    }
   ],
   "source": [
    "housing[\"rooms_house\"] = housing[\"total_rooms\"]/housing[\"households\"]\n",
    "housing[\"bedrooms_house\"] = housing[\"total_bedrooms\"]/housing[\"total_rooms\"]\n",
    "\n",
    "corr_matrix = housing.corr()\n",
    "corr_matrix[\"median_house_value\"].sort_values(ascending=False)"
   ]
  },
  {
   "cell_type": "markdown",
   "id": "437f9046",
   "metadata": {},
   "source": [
    "As we can see that median_house_value has strong correlation with, median_income, rooms_house, bedrooms_house. "
   ]
  },
  {
   "cell_type": "code",
   "execution_count": 12,
   "id": "0943c2e4",
   "metadata": {
    "ExecuteTime": {
     "end_time": "2023-06-27T12:51:20.867042Z",
     "start_time": "2023-06-27T12:51:20.855236Z"
    }
   },
   "outputs": [],
   "source": [
    "housing = strat_train_set.drop(\"median_house_value\", axis=1)\n",
    "housing_labels = strat_train_set[\"median_house_value\"].copy()"
   ]
  },
  {
   "cell_type": "markdown",
   "id": "8e08b8cd",
   "metadata": {
    "ExecuteTime": {
     "end_time": "2023-06-24T18:57:46.779679Z",
     "start_time": "2023-06-24T18:57:46.763751Z"
    }
   },
   "source": [
    "Now, we have to prepare our data for machine learining model, we have to take care of missing values, categorical attributes in ocean_proximity, skewdness of data, we also have to add the new attributes to the dataset. We will make a pipeline to do this."
   ]
  },
  {
   "cell_type": "markdown",
   "id": "8142b32c",
   "metadata": {
    "ExecuteTime": {
     "end_time": "2023-06-24T18:57:48.701134Z",
     "start_time": "2023-06-24T18:57:48.641410Z"
    }
   },
   "source": [
    "# Creating pipeline"
   ]
  },
  {
   "cell_type": "code",
   "execution_count": 13,
   "id": "b69dbea4",
   "metadata": {
    "ExecuteTime": {
     "end_time": "2023-06-27T12:51:21.044352Z",
     "start_time": "2023-06-27T12:51:20.871031Z"
    }
   },
   "outputs": [],
   "source": [
    "from sklearn.compose import ColumnTransformer\n",
    "from sklearn.preprocessing import FunctionTransformer\n",
    "from sklearn.preprocessing import StandardScaler\n",
    "from sklearn.impute import SimpleImputer\n",
    "from sklearn.pipeline import make_pipeline\n",
    "from sklearn.preprocessing import OneHotEncoder\n",
    "from sklearn.compose import make_column_selector\n",
    "\n",
    "def ratio_name(function_transformer, feature_names_in):\n",
    "    return [\"ratio\"]\n",
    "\n",
    "def ratio_pipeline(): \n",
    "    return make_pipeline(SimpleImputer(strategy=\"median\"),\n",
    "                        FunctionTransformer(lambda X: X[:, [0]] / X[:, [1]], feature_names_out=ratio_name),\n",
    "                        StandardScaler())\n",
    "\n",
    "cat_pipeline = make_pipeline(SimpleImputer(strategy=\"most_frequent\"),\n",
    "                            OneHotEncoder(handle_unknown=\"ignore\"))\n",
    "\n",
    "log_pipeline = make_pipeline(SimpleImputer(strategy=\"median\"),\n",
    "                            FunctionTransformer(np.log, feature_names_out=\"one-to-one\"),\n",
    "                            StandardScaler())\n",
    "\n",
    "default_pipeline = make_pipeline(SimpleImputer(strategy=\"median\"),\n",
    "                                StandardScaler())\n",
    "\n",
    "preparing = ColumnTransformer([(\"bedrooms\", ratio_pipeline(), [\"total_bedrooms\", \"total_rooms\"]),\n",
    "                            (\"rooms_per_house\", ratio_pipeline(), [\"total_rooms\", \"households\"]),\n",
    "                            (\"people_per_house\", ratio_pipeline(), [\"population\", \"households\"]),\n",
    "                            (\"log\", log_pipeline, [\"total_bedrooms\", \"total_rooms\", \"population\",\n",
    "                                                    \"households\", \"median_income\"]),\n",
    "                            (\"category\", cat_pipeline, make_column_selector(dtype_include=object))],\n",
    "                             remainder=default_pipeline)"
   ]
  },
  {
   "cell_type": "code",
   "execution_count": 14,
   "id": "83e727dd",
   "metadata": {
    "ExecuteTime": {
     "end_time": "2023-06-27T12:51:21.191135Z",
     "start_time": "2023-06-27T12:51:21.047382Z"
    }
   },
   "outputs": [],
   "source": [
    "housing_tr = preparing.fit_transform(housing)"
   ]
  },
  {
   "cell_type": "markdown",
   "id": "bc571191",
   "metadata": {},
   "source": [
    "# Selecting and Evaluating models"
   ]
  },
  {
   "cell_type": "code",
   "execution_count": 15,
   "id": "535ae058",
   "metadata": {
    "ExecuteTime": {
     "end_time": "2023-06-27T12:52:53.823129Z",
     "start_time": "2023-06-27T12:51:21.195731Z"
    }
   },
   "outputs": [
    {
     "data": {
      "text/html": [
       "<style>#sk-container-id-1 {color: black;background-color: white;}#sk-container-id-1 pre{padding: 0;}#sk-container-id-1 div.sk-toggleable {background-color: white;}#sk-container-id-1 label.sk-toggleable__label {cursor: pointer;display: block;width: 100%;margin-bottom: 0;padding: 0.3em;box-sizing: border-box;text-align: center;}#sk-container-id-1 label.sk-toggleable__label-arrow:before {content: \"▸\";float: left;margin-right: 0.25em;color: #696969;}#sk-container-id-1 label.sk-toggleable__label-arrow:hover:before {color: black;}#sk-container-id-1 div.sk-estimator:hover label.sk-toggleable__label-arrow:before {color: black;}#sk-container-id-1 div.sk-toggleable__content {max-height: 0;max-width: 0;overflow: hidden;text-align: left;background-color: #f0f8ff;}#sk-container-id-1 div.sk-toggleable__content pre {margin: 0.2em;color: black;border-radius: 0.25em;background-color: #f0f8ff;}#sk-container-id-1 input.sk-toggleable__control:checked~div.sk-toggleable__content {max-height: 200px;max-width: 100%;overflow: auto;}#sk-container-id-1 input.sk-toggleable__control:checked~label.sk-toggleable__label-arrow:before {content: \"▾\";}#sk-container-id-1 div.sk-estimator input.sk-toggleable__control:checked~label.sk-toggleable__label {background-color: #d4ebff;}#sk-container-id-1 div.sk-label input.sk-toggleable__control:checked~label.sk-toggleable__label {background-color: #d4ebff;}#sk-container-id-1 input.sk-hidden--visually {border: 0;clip: rect(1px 1px 1px 1px);clip: rect(1px, 1px, 1px, 1px);height: 1px;margin: -1px;overflow: hidden;padding: 0;position: absolute;width: 1px;}#sk-container-id-1 div.sk-estimator {font-family: monospace;background-color: #f0f8ff;border: 1px dotted black;border-radius: 0.25em;box-sizing: border-box;margin-bottom: 0.5em;}#sk-container-id-1 div.sk-estimator:hover {background-color: #d4ebff;}#sk-container-id-1 div.sk-parallel-item::after {content: \"\";width: 100%;border-bottom: 1px solid gray;flex-grow: 1;}#sk-container-id-1 div.sk-label:hover label.sk-toggleable__label {background-color: #d4ebff;}#sk-container-id-1 div.sk-serial::before {content: \"\";position: absolute;border-left: 1px solid gray;box-sizing: border-box;top: 0;bottom: 0;left: 50%;z-index: 0;}#sk-container-id-1 div.sk-serial {display: flex;flex-direction: column;align-items: center;background-color: white;padding-right: 0.2em;padding-left: 0.2em;position: relative;}#sk-container-id-1 div.sk-item {position: relative;z-index: 1;}#sk-container-id-1 div.sk-parallel {display: flex;align-items: stretch;justify-content: center;background-color: white;position: relative;}#sk-container-id-1 div.sk-item::before, #sk-container-id-1 div.sk-parallel-item::before {content: \"\";position: absolute;border-left: 1px solid gray;box-sizing: border-box;top: 0;bottom: 0;left: 50%;z-index: -1;}#sk-container-id-1 div.sk-parallel-item {display: flex;flex-direction: column;z-index: 1;position: relative;background-color: white;}#sk-container-id-1 div.sk-parallel-item:first-child::after {align-self: flex-end;width: 50%;}#sk-container-id-1 div.sk-parallel-item:last-child::after {align-self: flex-start;width: 50%;}#sk-container-id-1 div.sk-parallel-item:only-child::after {width: 0;}#sk-container-id-1 div.sk-dashed-wrapped {border: 1px dashed gray;margin: 0 0.4em 0.5em 0.4em;box-sizing: border-box;padding-bottom: 0.4em;background-color: white;}#sk-container-id-1 div.sk-label label {font-family: monospace;font-weight: bold;display: inline-block;line-height: 1.2em;}#sk-container-id-1 div.sk-label-container {text-align: center;}#sk-container-id-1 div.sk-container {/* jupyter's `normalize.less` sets `[hidden] { display: none; }` but bootstrap.min.css set `[hidden] { display: none !important; }` so we also need the `!important` here to be able to override the default hidden behavior on the sphinx rendered scikit-learn.org. See: https://github.com/scikit-learn/scikit-learn/issues/21755 */display: inline-block !important;position: relative;}#sk-container-id-1 div.sk-text-repr-fallback {display: none;}</style><div id=\"sk-container-id-1\" class=\"sk-top-container\"><div class=\"sk-text-repr-fallback\"><pre>RandomForestRegressor()</pre><b>In a Jupyter environment, please rerun this cell to show the HTML representation or trust the notebook. <br />On GitHub, the HTML representation is unable to render, please try loading this page with nbviewer.org.</b></div><div class=\"sk-container\" hidden><div class=\"sk-item\"><div class=\"sk-estimator sk-toggleable\"><input class=\"sk-toggleable__control sk-hidden--visually\" id=\"sk-estimator-id-1\" type=\"checkbox\" checked><label for=\"sk-estimator-id-1\" class=\"sk-toggleable__label sk-toggleable__label-arrow\">RandomForestRegressor</label><div class=\"sk-toggleable__content\"><pre>RandomForestRegressor()</pre></div></div></div></div></div>"
      ],
      "text/plain": [
       "RandomForestRegressor()"
      ]
     },
     "execution_count": 15,
     "metadata": {},
     "output_type": "execute_result"
    }
   ],
   "source": [
    "from sklearn.linear_model import LinearRegression\n",
    "\n",
    "model1 = LinearRegression()\n",
    "model1.fit(housing_tr, housing_labels)\n",
    "\n",
    "from sklearn.tree import DecisionTreeRegressor\n",
    "\n",
    "model2 = DecisionTreeRegressor()\n",
    "model2.fit(housing_tr, housing_labels)\n",
    "\n",
    "from sklearn.ensemble import RandomForestRegressor\n",
    "\n",
    "model3 = RandomForestRegressor()\n",
    "model3.fit(housing_tr, housing_labels)"
   ]
  },
  {
   "cell_type": "code",
   "execution_count": 16,
   "id": "c512d36b",
   "metadata": {
    "ExecuteTime": {
     "end_time": "2023-06-27T12:52:53.853502Z",
     "start_time": "2023-06-27T12:52:53.827769Z"
    }
   },
   "outputs": [],
   "source": [
    "def evaluate_rmse(model, data, labels):\n",
    "    from sklearn.metrics import mean_squared_error\n",
    "\n",
    "    predictions = model.predict(data)\n",
    "    lin_mse = mean_squared_error(labels, predictions)\n",
    "    lin_rmse = np.sqrt(lin_mse)\n",
    "    print(f\"Root mean square, for the {model}, is: \",lin_rmse)\n",
    "    \n",
    "def evaluate_cross_val_rmse(model, data, label,n):\n",
    "    from sklearn.model_selection import cross_val_score\n",
    "    score = -cross_val_score(model, data, label, scoring=\"neg_mean_squared_error\", cv=n)\n",
    "    rmse_scores = np.sqrt(score)\n",
    "\n",
    "    print(f\"The results for {model} are:\")\n",
    "    print(\"Root mean square is: \", rmse_scores)\n",
    "    print(\"Mean: \", rmse_scores.mean())\n",
    "    print(\"Standard deviation: \", rmse_scores.std())"
   ]
  },
  {
   "cell_type": "code",
   "execution_count": 17,
   "id": "5445b983",
   "metadata": {
    "ExecuteTime": {
     "end_time": "2023-06-27T12:52:54.106601Z",
     "start_time": "2023-06-27T12:52:53.857282Z"
    }
   },
   "outputs": [
    {
     "name": "stdout",
     "output_type": "stream",
     "text": [
      "Evaluating LinearRegressor() model\n",
      "[265100.  57200. 161600. 169700. 128700.]\n",
      "[258000.  57500. 220300. 387500.  77600.]\n",
      "\n",
      "\n",
      "Root mean square, for the LinearRegression(), is:  71170.33053967217\n",
      "\n",
      "\n",
      "The results for LinearRegression() are:\n",
      "Root mean square is:  [73490.49183783 71361.93004015 70324.10982681 80523.2066713\n",
      " 70290.2495026  74424.06304289 69700.92491945 70471.62594807\n",
      " 71510.97879852 70605.66978596]\n",
      "Mean:  72270.32503735641\n",
      "Standard deviation:  3097.67498484847\n"
     ]
    }
   ],
   "source": [
    "print(\"Evaluating LinearRegressor() model\")\n",
    "predictions_model1 = model1.predict(housing_tr)\n",
    "print(predictions_model1[:5].round(-2))\n",
    "print(housing_labels.iloc[:5].values)\n",
    "print(\"\\n\")\n",
    "evaluate_rmse(model1, housing_tr, housing_labels)\n",
    "print(\"\\n\")\n",
    "evaluate_cross_val_rmse(model1, housing_tr, housing_labels, 10)"
   ]
  },
  {
   "cell_type": "code",
   "execution_count": 18,
   "id": "a834c4e9",
   "metadata": {
    "ExecuteTime": {
     "end_time": "2023-06-27T12:52:59.847099Z",
     "start_time": "2023-06-27T12:52:54.109110Z"
    }
   },
   "outputs": [
    {
     "name": "stdout",
     "output_type": "stream",
     "text": [
      "Evaluating DecisionRegressor() model\n",
      "[258000.  57500. 220300. 387500.  77600.]\n",
      "[258000.  57500. 220300. 387500.  77600.]\n",
      "\n",
      "\n",
      "Root mean square, for the DecisionTreeRegressor(), is:  0.0\n",
      "\n",
      "\n",
      "The results for DecisionTreeRegressor() are:\n",
      "Root mean square is:  [74055.71126273 70516.79437828 71458.36575593 68638.06542991\n",
      " 70927.17946315 76130.55068022 71748.25994154 72640.57513921\n",
      " 76704.21396909 71459.96710842]\n",
      "Mean:  72427.96831284766\n",
      "Standard deviation:  2393.692077837756\n"
     ]
    }
   ],
   "source": [
    "print(\"Evaluating DecisionRegressor() model\")\n",
    "predictions_model2 = model2.predict(housing_tr)\n",
    "print(predictions_model2[:5].round(-2))\n",
    "print(housing_labels.iloc[:5].values)\n",
    "print(\"\\n\")\n",
    "evaluate_rmse(model2, housing_tr, housing_labels)\n",
    "print(\"\\n\")\n",
    "evaluate_cross_val_rmse(model2, housing_tr, housing_labels, 10)\n",
    "\n",
    "# DecisionRegressor is overfitting on the data"
   ]
  },
  {
   "cell_type": "code",
   "execution_count": 19,
   "id": "3f491676",
   "metadata": {
    "ExecuteTime": {
     "end_time": "2023-06-27T13:02:16.852609Z",
     "start_time": "2023-06-27T12:52:59.851456Z"
    }
   },
   "outputs": [
    {
     "name": "stdout",
     "output_type": "stream",
     "text": [
      "Evaluating RandomForestRegressor() model\n",
      "[246000.  57600. 204500. 321800.  82700.]\n",
      "[258000.  57500. 220300. 387500.  77600.]\n",
      "\n",
      "\n",
      "Root mean square, for the RandomForestRegressor(), is:  18734.82641989772\n",
      "\n",
      "\n",
      "The results for RandomForestRegressor() are:\n",
      "Root mean square is:  [51099.98891271 48169.39107093 49169.29885932 50765.48087359\n",
      " 48681.64199549 53353.23098411 49642.69457538 48931.0429459\n",
      " 52785.71536666 51348.59060918]\n",
      "Mean:  50394.70761932822\n",
      "Standard deviation:  1676.623330111073\n"
     ]
    }
   ],
   "source": [
    "print(\"Evaluating RandomForestRegressor() model\")\n",
    "predictions_model3 = model3.predict(housing_tr)\n",
    "print(predictions_model3[:5].round(-2))\n",
    "print(housing_labels.iloc[:5].values)\n",
    "print(\"\\n\")\n",
    "evaluate_rmse(model3, housing_tr, housing_labels)\n",
    "print(\"\\n\")\n",
    "evaluate_cross_val_rmse(model3, housing_tr, housing_labels, 10)"
   ]
  },
  {
   "cell_type": "markdown",
   "id": "8d48baec",
   "metadata": {
    "ExecuteTime": {
     "start_time": "2023-06-26T13:12:42.080Z"
    }
   },
   "source": [
    "As we can see that LinearRegressor() performs poorly, and DecisionRegressor() overfits the data and it is performing only slightly better than LinearRegressor(). But, RandomForestRegressor() is performing better than both of the models, so, now we will fine tune this model. "
   ]
  },
  {
   "cell_type": "code",
   "execution_count": 20,
   "id": "2e9c8cb2",
   "metadata": {
    "ExecuteTime": {
     "end_time": "2023-06-27T13:16:38.761519Z",
     "start_time": "2023-06-27T13:02:16.855586Z"
    },
    "scrolled": true
   },
   "outputs": [
    {
     "data": {
      "text/html": [
       "<style>#sk-container-id-2 {color: black;background-color: white;}#sk-container-id-2 pre{padding: 0;}#sk-container-id-2 div.sk-toggleable {background-color: white;}#sk-container-id-2 label.sk-toggleable__label {cursor: pointer;display: block;width: 100%;margin-bottom: 0;padding: 0.3em;box-sizing: border-box;text-align: center;}#sk-container-id-2 label.sk-toggleable__label-arrow:before {content: \"▸\";float: left;margin-right: 0.25em;color: #696969;}#sk-container-id-2 label.sk-toggleable__label-arrow:hover:before {color: black;}#sk-container-id-2 div.sk-estimator:hover label.sk-toggleable__label-arrow:before {color: black;}#sk-container-id-2 div.sk-toggleable__content {max-height: 0;max-width: 0;overflow: hidden;text-align: left;background-color: #f0f8ff;}#sk-container-id-2 div.sk-toggleable__content pre {margin: 0.2em;color: black;border-radius: 0.25em;background-color: #f0f8ff;}#sk-container-id-2 input.sk-toggleable__control:checked~div.sk-toggleable__content {max-height: 200px;max-width: 100%;overflow: auto;}#sk-container-id-2 input.sk-toggleable__control:checked~label.sk-toggleable__label-arrow:before {content: \"▾\";}#sk-container-id-2 div.sk-estimator input.sk-toggleable__control:checked~label.sk-toggleable__label {background-color: #d4ebff;}#sk-container-id-2 div.sk-label input.sk-toggleable__control:checked~label.sk-toggleable__label {background-color: #d4ebff;}#sk-container-id-2 input.sk-hidden--visually {border: 0;clip: rect(1px 1px 1px 1px);clip: rect(1px, 1px, 1px, 1px);height: 1px;margin: -1px;overflow: hidden;padding: 0;position: absolute;width: 1px;}#sk-container-id-2 div.sk-estimator {font-family: monospace;background-color: #f0f8ff;border: 1px dotted black;border-radius: 0.25em;box-sizing: border-box;margin-bottom: 0.5em;}#sk-container-id-2 div.sk-estimator:hover {background-color: #d4ebff;}#sk-container-id-2 div.sk-parallel-item::after {content: \"\";width: 100%;border-bottom: 1px solid gray;flex-grow: 1;}#sk-container-id-2 div.sk-label:hover label.sk-toggleable__label {background-color: #d4ebff;}#sk-container-id-2 div.sk-serial::before {content: \"\";position: absolute;border-left: 1px solid gray;box-sizing: border-box;top: 0;bottom: 0;left: 50%;z-index: 0;}#sk-container-id-2 div.sk-serial {display: flex;flex-direction: column;align-items: center;background-color: white;padding-right: 0.2em;padding-left: 0.2em;position: relative;}#sk-container-id-2 div.sk-item {position: relative;z-index: 1;}#sk-container-id-2 div.sk-parallel {display: flex;align-items: stretch;justify-content: center;background-color: white;position: relative;}#sk-container-id-2 div.sk-item::before, #sk-container-id-2 div.sk-parallel-item::before {content: \"\";position: absolute;border-left: 1px solid gray;box-sizing: border-box;top: 0;bottom: 0;left: 50%;z-index: -1;}#sk-container-id-2 div.sk-parallel-item {display: flex;flex-direction: column;z-index: 1;position: relative;background-color: white;}#sk-container-id-2 div.sk-parallel-item:first-child::after {align-self: flex-end;width: 50%;}#sk-container-id-2 div.sk-parallel-item:last-child::after {align-self: flex-start;width: 50%;}#sk-container-id-2 div.sk-parallel-item:only-child::after {width: 0;}#sk-container-id-2 div.sk-dashed-wrapped {border: 1px dashed gray;margin: 0 0.4em 0.5em 0.4em;box-sizing: border-box;padding-bottom: 0.4em;background-color: white;}#sk-container-id-2 div.sk-label label {font-family: monospace;font-weight: bold;display: inline-block;line-height: 1.2em;}#sk-container-id-2 div.sk-label-container {text-align: center;}#sk-container-id-2 div.sk-container {/* jupyter's `normalize.less` sets `[hidden] { display: none; }` but bootstrap.min.css set `[hidden] { display: none !important; }` so we also need the `!important` here to be able to override the default hidden behavior on the sphinx rendered scikit-learn.org. See: https://github.com/scikit-learn/scikit-learn/issues/21755 */display: inline-block !important;position: relative;}#sk-container-id-2 div.sk-text-repr-fallback {display: none;}</style><div id=\"sk-container-id-2\" class=\"sk-top-container\"><div class=\"sk-text-repr-fallback\"><pre>RandomizedSearchCV(cv=3,\n",
       "                   estimator=Pipeline(steps=[(&#x27;preparing&#x27;,\n",
       "                                              ColumnTransformer(remainder=Pipeline(steps=[(&#x27;simpleimputer&#x27;,\n",
       "                                                                                           SimpleImputer(strategy=&#x27;median&#x27;)),\n",
       "                                                                                          (&#x27;standardscaler&#x27;,\n",
       "                                                                                           StandardScaler())]),\n",
       "                                                                transformers=[(&#x27;bedrooms&#x27;,\n",
       "                                                                               Pipeline(steps=[(&#x27;simpleimputer&#x27;,\n",
       "                                                                                                SimpleImputer(strategy=&#x27;median&#x27;)),\n",
       "                                                                                               (&#x27;functiontransformer&#x27;,\n",
       "                                                                                                FunctionTransformer(feature_names_out=...\n",
       "                                                                               &lt;sklearn.compose._column_transformer.make_column_selector object at 0x000002344F35E1F0&gt;)])),\n",
       "                                             (&#x27;rfr&#x27;,\n",
       "                                              RandomForestRegressor(random_state=42))]),\n",
       "                   param_distributions={&#x27;rfr__max_features&#x27;: &lt;scipy.stats._distn_infrastructure.rv_frozen object at 0x000002344FA97AC0&gt;,\n",
       "                                        &#x27;rfr__n_estimators&#x27;: &lt;scipy.stats._distn_infrastructure.rv_frozen object at 0x000002344FA993D0&gt;},\n",
       "                   random_state=42, scoring=&#x27;neg_root_mean_squared_error&#x27;)</pre><b>In a Jupyter environment, please rerun this cell to show the HTML representation or trust the notebook. <br />On GitHub, the HTML representation is unable to render, please try loading this page with nbviewer.org.</b></div><div class=\"sk-container\" hidden><div class=\"sk-item sk-dashed-wrapped\"><div class=\"sk-label-container\"><div class=\"sk-label sk-toggleable\"><input class=\"sk-toggleable__control sk-hidden--visually\" id=\"sk-estimator-id-2\" type=\"checkbox\" ><label for=\"sk-estimator-id-2\" class=\"sk-toggleable__label sk-toggleable__label-arrow\">RandomizedSearchCV</label><div class=\"sk-toggleable__content\"><pre>RandomizedSearchCV(cv=3,\n",
       "                   estimator=Pipeline(steps=[(&#x27;preparing&#x27;,\n",
       "                                              ColumnTransformer(remainder=Pipeline(steps=[(&#x27;simpleimputer&#x27;,\n",
       "                                                                                           SimpleImputer(strategy=&#x27;median&#x27;)),\n",
       "                                                                                          (&#x27;standardscaler&#x27;,\n",
       "                                                                                           StandardScaler())]),\n",
       "                                                                transformers=[(&#x27;bedrooms&#x27;,\n",
       "                                                                               Pipeline(steps=[(&#x27;simpleimputer&#x27;,\n",
       "                                                                                                SimpleImputer(strategy=&#x27;median&#x27;)),\n",
       "                                                                                               (&#x27;functiontransformer&#x27;,\n",
       "                                                                                                FunctionTransformer(feature_names_out=...\n",
       "                                                                               &lt;sklearn.compose._column_transformer.make_column_selector object at 0x000002344F35E1F0&gt;)])),\n",
       "                                             (&#x27;rfr&#x27;,\n",
       "                                              RandomForestRegressor(random_state=42))]),\n",
       "                   param_distributions={&#x27;rfr__max_features&#x27;: &lt;scipy.stats._distn_infrastructure.rv_frozen object at 0x000002344FA97AC0&gt;,\n",
       "                                        &#x27;rfr__n_estimators&#x27;: &lt;scipy.stats._distn_infrastructure.rv_frozen object at 0x000002344FA993D0&gt;},\n",
       "                   random_state=42, scoring=&#x27;neg_root_mean_squared_error&#x27;)</pre></div></div></div><div class=\"sk-parallel\"><div class=\"sk-parallel-item\"><div class=\"sk-item\"><div class=\"sk-label-container\"><div class=\"sk-label sk-toggleable\"><input class=\"sk-toggleable__control sk-hidden--visually\" id=\"sk-estimator-id-3\" type=\"checkbox\" ><label for=\"sk-estimator-id-3\" class=\"sk-toggleable__label sk-toggleable__label-arrow\">estimator: Pipeline</label><div class=\"sk-toggleable__content\"><pre>Pipeline(steps=[(&#x27;preparing&#x27;,\n",
       "                 ColumnTransformer(remainder=Pipeline(steps=[(&#x27;simpleimputer&#x27;,\n",
       "                                                              SimpleImputer(strategy=&#x27;median&#x27;)),\n",
       "                                                             (&#x27;standardscaler&#x27;,\n",
       "                                                              StandardScaler())]),\n",
       "                                   transformers=[(&#x27;bedrooms&#x27;,\n",
       "                                                  Pipeline(steps=[(&#x27;simpleimputer&#x27;,\n",
       "                                                                   SimpleImputer(strategy=&#x27;median&#x27;)),\n",
       "                                                                  (&#x27;functiontransformer&#x27;,\n",
       "                                                                   FunctionTransformer(feature_names_out=&lt;function ratio_name at 0x000002344EF...\n",
       "                                                  [&#x27;total_bedrooms&#x27;,\n",
       "                                                   &#x27;total_rooms&#x27;, &#x27;population&#x27;,\n",
       "                                                   &#x27;households&#x27;,\n",
       "                                                   &#x27;median_income&#x27;]),\n",
       "                                                 (&#x27;category&#x27;,\n",
       "                                                  Pipeline(steps=[(&#x27;simpleimputer&#x27;,\n",
       "                                                                   SimpleImputer(strategy=&#x27;most_frequent&#x27;)),\n",
       "                                                                  (&#x27;onehotencoder&#x27;,\n",
       "                                                                   OneHotEncoder(handle_unknown=&#x27;ignore&#x27;))]),\n",
       "                                                  &lt;sklearn.compose._column_transformer.make_column_selector object at 0x000002344F35E1F0&gt;)])),\n",
       "                (&#x27;rfr&#x27;, RandomForestRegressor(random_state=42))])</pre></div></div></div><div class=\"sk-serial\"><div class=\"sk-item\"><div class=\"sk-serial\"><div class=\"sk-item sk-dashed-wrapped\"><div class=\"sk-label-container\"><div class=\"sk-label sk-toggleable\"><input class=\"sk-toggleable__control sk-hidden--visually\" id=\"sk-estimator-id-4\" type=\"checkbox\" ><label for=\"sk-estimator-id-4\" class=\"sk-toggleable__label sk-toggleable__label-arrow\">preparing: ColumnTransformer</label><div class=\"sk-toggleable__content\"><pre>ColumnTransformer(remainder=Pipeline(steps=[(&#x27;simpleimputer&#x27;,\n",
       "                                             SimpleImputer(strategy=&#x27;median&#x27;)),\n",
       "                                            (&#x27;standardscaler&#x27;,\n",
       "                                             StandardScaler())]),\n",
       "                  transformers=[(&#x27;bedrooms&#x27;,\n",
       "                                 Pipeline(steps=[(&#x27;simpleimputer&#x27;,\n",
       "                                                  SimpleImputer(strategy=&#x27;median&#x27;)),\n",
       "                                                 (&#x27;functiontransformer&#x27;,\n",
       "                                                  FunctionTransformer(feature_names_out=&lt;function ratio_name at 0x000002344EF8F8B0&gt;,\n",
       "                                                                      func=&lt;function ratio_pi...\n",
       "                                                                      func=&lt;ufunc &#x27;log&#x27;&gt;)),\n",
       "                                                 (&#x27;standardscaler&#x27;,\n",
       "                                                  StandardScaler())]),\n",
       "                                 [&#x27;total_bedrooms&#x27;, &#x27;total_rooms&#x27;, &#x27;population&#x27;,\n",
       "                                  &#x27;households&#x27;, &#x27;median_income&#x27;]),\n",
       "                                (&#x27;category&#x27;,\n",
       "                                 Pipeline(steps=[(&#x27;simpleimputer&#x27;,\n",
       "                                                  SimpleImputer(strategy=&#x27;most_frequent&#x27;)),\n",
       "                                                 (&#x27;onehotencoder&#x27;,\n",
       "                                                  OneHotEncoder(handle_unknown=&#x27;ignore&#x27;))]),\n",
       "                                 &lt;sklearn.compose._column_transformer.make_column_selector object at 0x000002344F35E1F0&gt;)])</pre></div></div></div><div class=\"sk-parallel\"><div class=\"sk-parallel-item\"><div class=\"sk-item\"><div class=\"sk-label-container\"><div class=\"sk-label sk-toggleable\"><input class=\"sk-toggleable__control sk-hidden--visually\" id=\"sk-estimator-id-5\" type=\"checkbox\" ><label for=\"sk-estimator-id-5\" class=\"sk-toggleable__label sk-toggleable__label-arrow\">bedrooms</label><div class=\"sk-toggleable__content\"><pre>[&#x27;total_bedrooms&#x27;, &#x27;total_rooms&#x27;]</pre></div></div></div><div class=\"sk-serial\"><div class=\"sk-item\"><div class=\"sk-serial\"><div class=\"sk-item\"><div class=\"sk-estimator sk-toggleable\"><input class=\"sk-toggleable__control sk-hidden--visually\" id=\"sk-estimator-id-6\" type=\"checkbox\" ><label for=\"sk-estimator-id-6\" class=\"sk-toggleable__label sk-toggleable__label-arrow\">SimpleImputer</label><div class=\"sk-toggleable__content\"><pre>SimpleImputer(strategy=&#x27;median&#x27;)</pre></div></div></div><div class=\"sk-item\"><div class=\"sk-estimator sk-toggleable\"><input class=\"sk-toggleable__control sk-hidden--visually\" id=\"sk-estimator-id-7\" type=\"checkbox\" ><label for=\"sk-estimator-id-7\" class=\"sk-toggleable__label sk-toggleable__label-arrow\">FunctionTransformer</label><div class=\"sk-toggleable__content\"><pre>FunctionTransformer(feature_names_out=&lt;function ratio_name at 0x000002344EF8F8B0&gt;,\n",
       "                    func=&lt;function ratio_pipeline.&lt;locals&gt;.&lt;lambda&gt; at 0x000002344F35BD30&gt;)</pre></div></div></div><div class=\"sk-item\"><div class=\"sk-estimator sk-toggleable\"><input class=\"sk-toggleable__control sk-hidden--visually\" id=\"sk-estimator-id-8\" type=\"checkbox\" ><label for=\"sk-estimator-id-8\" class=\"sk-toggleable__label sk-toggleable__label-arrow\">StandardScaler</label><div class=\"sk-toggleable__content\"><pre>StandardScaler()</pre></div></div></div></div></div></div></div></div><div class=\"sk-parallel-item\"><div class=\"sk-item\"><div class=\"sk-label-container\"><div class=\"sk-label sk-toggleable\"><input class=\"sk-toggleable__control sk-hidden--visually\" id=\"sk-estimator-id-9\" type=\"checkbox\" ><label for=\"sk-estimator-id-9\" class=\"sk-toggleable__label sk-toggleable__label-arrow\">rooms_per_house</label><div class=\"sk-toggleable__content\"><pre>[&#x27;total_rooms&#x27;, &#x27;households&#x27;]</pre></div></div></div><div class=\"sk-serial\"><div class=\"sk-item\"><div class=\"sk-serial\"><div class=\"sk-item\"><div class=\"sk-estimator sk-toggleable\"><input class=\"sk-toggleable__control sk-hidden--visually\" id=\"sk-estimator-id-10\" type=\"checkbox\" ><label for=\"sk-estimator-id-10\" class=\"sk-toggleable__label sk-toggleable__label-arrow\">SimpleImputer</label><div class=\"sk-toggleable__content\"><pre>SimpleImputer(strategy=&#x27;median&#x27;)</pre></div></div></div><div class=\"sk-item\"><div class=\"sk-estimator sk-toggleable\"><input class=\"sk-toggleable__control sk-hidden--visually\" id=\"sk-estimator-id-11\" type=\"checkbox\" ><label for=\"sk-estimator-id-11\" class=\"sk-toggleable__label sk-toggleable__label-arrow\">FunctionTransformer</label><div class=\"sk-toggleable__content\"><pre>FunctionTransformer(feature_names_out=&lt;function ratio_name at 0x000002344EF8F8B0&gt;,\n",
       "                    func=&lt;function ratio_pipeline.&lt;locals&gt;.&lt;lambda&gt; at 0x000002344F35BDC0&gt;)</pre></div></div></div><div class=\"sk-item\"><div class=\"sk-estimator sk-toggleable\"><input class=\"sk-toggleable__control sk-hidden--visually\" id=\"sk-estimator-id-12\" type=\"checkbox\" ><label for=\"sk-estimator-id-12\" class=\"sk-toggleable__label sk-toggleable__label-arrow\">StandardScaler</label><div class=\"sk-toggleable__content\"><pre>StandardScaler()</pre></div></div></div></div></div></div></div></div><div class=\"sk-parallel-item\"><div class=\"sk-item\"><div class=\"sk-label-container\"><div class=\"sk-label sk-toggleable\"><input class=\"sk-toggleable__control sk-hidden--visually\" id=\"sk-estimator-id-13\" type=\"checkbox\" ><label for=\"sk-estimator-id-13\" class=\"sk-toggleable__label sk-toggleable__label-arrow\">people_per_house</label><div class=\"sk-toggleable__content\"><pre>[&#x27;population&#x27;, &#x27;households&#x27;]</pre></div></div></div><div class=\"sk-serial\"><div class=\"sk-item\"><div class=\"sk-serial\"><div class=\"sk-item\"><div class=\"sk-estimator sk-toggleable\"><input class=\"sk-toggleable__control sk-hidden--visually\" id=\"sk-estimator-id-14\" type=\"checkbox\" ><label for=\"sk-estimator-id-14\" class=\"sk-toggleable__label sk-toggleable__label-arrow\">SimpleImputer</label><div class=\"sk-toggleable__content\"><pre>SimpleImputer(strategy=&#x27;median&#x27;)</pre></div></div></div><div class=\"sk-item\"><div class=\"sk-estimator sk-toggleable\"><input class=\"sk-toggleable__control sk-hidden--visually\" id=\"sk-estimator-id-15\" type=\"checkbox\" ><label for=\"sk-estimator-id-15\" class=\"sk-toggleable__label sk-toggleable__label-arrow\">FunctionTransformer</label><div class=\"sk-toggleable__content\"><pre>FunctionTransformer(feature_names_out=&lt;function ratio_name at 0x000002344EF8F8B0&gt;,\n",
       "                    func=&lt;function ratio_pipeline.&lt;locals&gt;.&lt;lambda&gt; at 0x000002344F35BE50&gt;)</pre></div></div></div><div class=\"sk-item\"><div class=\"sk-estimator sk-toggleable\"><input class=\"sk-toggleable__control sk-hidden--visually\" id=\"sk-estimator-id-16\" type=\"checkbox\" ><label for=\"sk-estimator-id-16\" class=\"sk-toggleable__label sk-toggleable__label-arrow\">StandardScaler</label><div class=\"sk-toggleable__content\"><pre>StandardScaler()</pre></div></div></div></div></div></div></div></div><div class=\"sk-parallel-item\"><div class=\"sk-item\"><div class=\"sk-label-container\"><div class=\"sk-label sk-toggleable\"><input class=\"sk-toggleable__control sk-hidden--visually\" id=\"sk-estimator-id-17\" type=\"checkbox\" ><label for=\"sk-estimator-id-17\" class=\"sk-toggleable__label sk-toggleable__label-arrow\">log</label><div class=\"sk-toggleable__content\"><pre>[&#x27;total_bedrooms&#x27;, &#x27;total_rooms&#x27;, &#x27;population&#x27;, &#x27;households&#x27;, &#x27;median_income&#x27;]</pre></div></div></div><div class=\"sk-serial\"><div class=\"sk-item\"><div class=\"sk-serial\"><div class=\"sk-item\"><div class=\"sk-estimator sk-toggleable\"><input class=\"sk-toggleable__control sk-hidden--visually\" id=\"sk-estimator-id-18\" type=\"checkbox\" ><label for=\"sk-estimator-id-18\" class=\"sk-toggleable__label sk-toggleable__label-arrow\">SimpleImputer</label><div class=\"sk-toggleable__content\"><pre>SimpleImputer(strategy=&#x27;median&#x27;)</pre></div></div></div><div class=\"sk-item\"><div class=\"sk-estimator sk-toggleable\"><input class=\"sk-toggleable__control sk-hidden--visually\" id=\"sk-estimator-id-19\" type=\"checkbox\" ><label for=\"sk-estimator-id-19\" class=\"sk-toggleable__label sk-toggleable__label-arrow\">FunctionTransformer</label><div class=\"sk-toggleable__content\"><pre>FunctionTransformer(feature_names_out=&#x27;one-to-one&#x27;, func=&lt;ufunc &#x27;log&#x27;&gt;)</pre></div></div></div><div class=\"sk-item\"><div class=\"sk-estimator sk-toggleable\"><input class=\"sk-toggleable__control sk-hidden--visually\" id=\"sk-estimator-id-20\" type=\"checkbox\" ><label for=\"sk-estimator-id-20\" class=\"sk-toggleable__label sk-toggleable__label-arrow\">StandardScaler</label><div class=\"sk-toggleable__content\"><pre>StandardScaler()</pre></div></div></div></div></div></div></div></div><div class=\"sk-parallel-item\"><div class=\"sk-item\"><div class=\"sk-label-container\"><div class=\"sk-label sk-toggleable\"><input class=\"sk-toggleable__control sk-hidden--visually\" id=\"sk-estimator-id-21\" type=\"checkbox\" ><label for=\"sk-estimator-id-21\" class=\"sk-toggleable__label sk-toggleable__label-arrow\">category</label><div class=\"sk-toggleable__content\"><pre>&lt;sklearn.compose._column_transformer.make_column_selector object at 0x000002344F35E1F0&gt;</pre></div></div></div><div class=\"sk-serial\"><div class=\"sk-item\"><div class=\"sk-serial\"><div class=\"sk-item\"><div class=\"sk-estimator sk-toggleable\"><input class=\"sk-toggleable__control sk-hidden--visually\" id=\"sk-estimator-id-22\" type=\"checkbox\" ><label for=\"sk-estimator-id-22\" class=\"sk-toggleable__label sk-toggleable__label-arrow\">SimpleImputer</label><div class=\"sk-toggleable__content\"><pre>SimpleImputer(strategy=&#x27;most_frequent&#x27;)</pre></div></div></div><div class=\"sk-item\"><div class=\"sk-estimator sk-toggleable\"><input class=\"sk-toggleable__control sk-hidden--visually\" id=\"sk-estimator-id-23\" type=\"checkbox\" ><label for=\"sk-estimator-id-23\" class=\"sk-toggleable__label sk-toggleable__label-arrow\">OneHotEncoder</label><div class=\"sk-toggleable__content\"><pre>OneHotEncoder(handle_unknown=&#x27;ignore&#x27;)</pre></div></div></div></div></div></div></div></div><div class=\"sk-parallel-item\"><div class=\"sk-item\"><div class=\"sk-label-container\"><div class=\"sk-label sk-toggleable\"><input class=\"sk-toggleable__control sk-hidden--visually\" id=\"sk-estimator-id-24\" type=\"checkbox\" ><label for=\"sk-estimator-id-24\" class=\"sk-toggleable__label sk-toggleable__label-arrow\">remainder</label><div class=\"sk-toggleable__content\"><pre>[&#x27;longitude&#x27;, &#x27;latitude&#x27;, &#x27;housing_median_age&#x27;]</pre></div></div></div><div class=\"sk-serial\"><div class=\"sk-item\"><div class=\"sk-serial\"><div class=\"sk-item\"><div class=\"sk-estimator sk-toggleable\"><input class=\"sk-toggleable__control sk-hidden--visually\" id=\"sk-estimator-id-25\" type=\"checkbox\" ><label for=\"sk-estimator-id-25\" class=\"sk-toggleable__label sk-toggleable__label-arrow\">SimpleImputer</label><div class=\"sk-toggleable__content\"><pre>SimpleImputer(strategy=&#x27;median&#x27;)</pre></div></div></div><div class=\"sk-item\"><div class=\"sk-estimator sk-toggleable\"><input class=\"sk-toggleable__control sk-hidden--visually\" id=\"sk-estimator-id-26\" type=\"checkbox\" ><label for=\"sk-estimator-id-26\" class=\"sk-toggleable__label sk-toggleable__label-arrow\">StandardScaler</label><div class=\"sk-toggleable__content\"><pre>StandardScaler()</pre></div></div></div></div></div></div></div></div></div></div><div class=\"sk-item\"><div class=\"sk-estimator sk-toggleable\"><input class=\"sk-toggleable__control sk-hidden--visually\" id=\"sk-estimator-id-27\" type=\"checkbox\" ><label for=\"sk-estimator-id-27\" class=\"sk-toggleable__label sk-toggleable__label-arrow\">RandomForestRegressor</label><div class=\"sk-toggleable__content\"><pre>RandomForestRegressor(random_state=42)</pre></div></div></div></div></div></div></div></div></div></div></div></div>"
      ],
      "text/plain": [
       "RandomizedSearchCV(cv=3,\n",
       "                   estimator=Pipeline(steps=[('preparing',\n",
       "                                              ColumnTransformer(remainder=Pipeline(steps=[('simpleimputer',\n",
       "                                                                                           SimpleImputer(strategy='median')),\n",
       "                                                                                          ('standardscaler',\n",
       "                                                                                           StandardScaler())]),\n",
       "                                                                transformers=[('bedrooms',\n",
       "                                                                               Pipeline(steps=[('simpleimputer',\n",
       "                                                                                                SimpleImputer(strategy='median')),\n",
       "                                                                                               ('functiontransformer',\n",
       "                                                                                                FunctionTransformer(feature_names_out=...\n",
       "                                                                               <sklearn.compose._column_transformer.make_column_selector object at 0x000002344F35E1F0>)])),\n",
       "                                             ('rfr',\n",
       "                                              RandomForestRegressor(random_state=42))]),\n",
       "                   param_distributions={'rfr__max_features': <scipy.stats._distn_infrastructure.rv_frozen object at 0x000002344FA97AC0>,\n",
       "                                        'rfr__n_estimators': <scipy.stats._distn_infrastructure.rv_frozen object at 0x000002344FA993D0>},\n",
       "                   random_state=42, scoring='neg_root_mean_squared_error')"
      ]
     },
     "execution_count": 20,
     "metadata": {},
     "output_type": "execute_result"
    }
   ],
   "source": [
    "from sklearn.model_selection import RandomizedSearchCV\n",
    "from sklearn.pipeline import Pipeline\n",
    "from scipy.stats import randint\n",
    "\n",
    "pipeline = Pipeline([\n",
    "    (\"preparing\", preparing),\n",
    "    (\"rfr\", RandomForestRegressor(random_state=42))\n",
    "])\n",
    "\n",
    "params = {\n",
    "    'rfr__max_features':randint(low=2,high=20),\n",
    "    'rfr__n_estimators':randint(low=100,high=150)\n",
    "}\n",
    "\n",
    "search = RandomizedSearchCV(pipeline, params, scoring=\"neg_root_mean_squared_error\", n_iter=10, random_state=42,cv=3)\n",
    "search.fit(housing, housing_labels)"
   ]
  },
  {
   "cell_type": "code",
   "execution_count": 21,
   "id": "3842eb55",
   "metadata": {
    "ExecuteTime": {
     "end_time": "2023-06-27T13:16:38.776595Z",
     "start_time": "2023-06-27T13:16:38.764511Z"
    }
   },
   "outputs": [
    {
     "data": {
      "text/plain": [
       "{'rfr__max_features': 5, 'rfr__n_estimators': 139}"
      ]
     },
     "execution_count": 21,
     "metadata": {},
     "output_type": "execute_result"
    }
   ],
   "source": [
    "search.best_params_"
   ]
  },
  {
   "cell_type": "code",
   "execution_count": 22,
   "id": "a337b133",
   "metadata": {
    "ExecuteTime": {
     "end_time": "2023-06-27T13:17:09.925930Z",
     "start_time": "2023-06-27T13:16:38.780581Z"
    }
   },
   "outputs": [
    {
     "data": {
      "text/html": [
       "<style>#sk-container-id-3 {color: black;background-color: white;}#sk-container-id-3 pre{padding: 0;}#sk-container-id-3 div.sk-toggleable {background-color: white;}#sk-container-id-3 label.sk-toggleable__label {cursor: pointer;display: block;width: 100%;margin-bottom: 0;padding: 0.3em;box-sizing: border-box;text-align: center;}#sk-container-id-3 label.sk-toggleable__label-arrow:before {content: \"▸\";float: left;margin-right: 0.25em;color: #696969;}#sk-container-id-3 label.sk-toggleable__label-arrow:hover:before {color: black;}#sk-container-id-3 div.sk-estimator:hover label.sk-toggleable__label-arrow:before {color: black;}#sk-container-id-3 div.sk-toggleable__content {max-height: 0;max-width: 0;overflow: hidden;text-align: left;background-color: #f0f8ff;}#sk-container-id-3 div.sk-toggleable__content pre {margin: 0.2em;color: black;border-radius: 0.25em;background-color: #f0f8ff;}#sk-container-id-3 input.sk-toggleable__control:checked~div.sk-toggleable__content {max-height: 200px;max-width: 100%;overflow: auto;}#sk-container-id-3 input.sk-toggleable__control:checked~label.sk-toggleable__label-arrow:before {content: \"▾\";}#sk-container-id-3 div.sk-estimator input.sk-toggleable__control:checked~label.sk-toggleable__label {background-color: #d4ebff;}#sk-container-id-3 div.sk-label input.sk-toggleable__control:checked~label.sk-toggleable__label {background-color: #d4ebff;}#sk-container-id-3 input.sk-hidden--visually {border: 0;clip: rect(1px 1px 1px 1px);clip: rect(1px, 1px, 1px, 1px);height: 1px;margin: -1px;overflow: hidden;padding: 0;position: absolute;width: 1px;}#sk-container-id-3 div.sk-estimator {font-family: monospace;background-color: #f0f8ff;border: 1px dotted black;border-radius: 0.25em;box-sizing: border-box;margin-bottom: 0.5em;}#sk-container-id-3 div.sk-estimator:hover {background-color: #d4ebff;}#sk-container-id-3 div.sk-parallel-item::after {content: \"\";width: 100%;border-bottom: 1px solid gray;flex-grow: 1;}#sk-container-id-3 div.sk-label:hover label.sk-toggleable__label {background-color: #d4ebff;}#sk-container-id-3 div.sk-serial::before {content: \"\";position: absolute;border-left: 1px solid gray;box-sizing: border-box;top: 0;bottom: 0;left: 50%;z-index: 0;}#sk-container-id-3 div.sk-serial {display: flex;flex-direction: column;align-items: center;background-color: white;padding-right: 0.2em;padding-left: 0.2em;position: relative;}#sk-container-id-3 div.sk-item {position: relative;z-index: 1;}#sk-container-id-3 div.sk-parallel {display: flex;align-items: stretch;justify-content: center;background-color: white;position: relative;}#sk-container-id-3 div.sk-item::before, #sk-container-id-3 div.sk-parallel-item::before {content: \"\";position: absolute;border-left: 1px solid gray;box-sizing: border-box;top: 0;bottom: 0;left: 50%;z-index: -1;}#sk-container-id-3 div.sk-parallel-item {display: flex;flex-direction: column;z-index: 1;position: relative;background-color: white;}#sk-container-id-3 div.sk-parallel-item:first-child::after {align-self: flex-end;width: 50%;}#sk-container-id-3 div.sk-parallel-item:last-child::after {align-self: flex-start;width: 50%;}#sk-container-id-3 div.sk-parallel-item:only-child::after {width: 0;}#sk-container-id-3 div.sk-dashed-wrapped {border: 1px dashed gray;margin: 0 0.4em 0.5em 0.4em;box-sizing: border-box;padding-bottom: 0.4em;background-color: white;}#sk-container-id-3 div.sk-label label {font-family: monospace;font-weight: bold;display: inline-block;line-height: 1.2em;}#sk-container-id-3 div.sk-label-container {text-align: center;}#sk-container-id-3 div.sk-container {/* jupyter's `normalize.less` sets `[hidden] { display: none; }` but bootstrap.min.css set `[hidden] { display: none !important; }` so we also need the `!important` here to be able to override the default hidden behavior on the sphinx rendered scikit-learn.org. See: https://github.com/scikit-learn/scikit-learn/issues/21755 */display: inline-block !important;position: relative;}#sk-container-id-3 div.sk-text-repr-fallback {display: none;}</style><div id=\"sk-container-id-3\" class=\"sk-top-container\"><div class=\"sk-text-repr-fallback\"><pre>RandomForestRegressor(max_features=5, n_estimators=139, random_state=42)</pre><b>In a Jupyter environment, please rerun this cell to show the HTML representation or trust the notebook. <br />On GitHub, the HTML representation is unable to render, please try loading this page with nbviewer.org.</b></div><div class=\"sk-container\" hidden><div class=\"sk-item\"><div class=\"sk-estimator sk-toggleable\"><input class=\"sk-toggleable__control sk-hidden--visually\" id=\"sk-estimator-id-28\" type=\"checkbox\" checked><label for=\"sk-estimator-id-28\" class=\"sk-toggleable__label sk-toggleable__label-arrow\">RandomForestRegressor</label><div class=\"sk-toggleable__content\"><pre>RandomForestRegressor(max_features=5, n_estimators=139, random_state=42)</pre></div></div></div></div></div>"
      ],
      "text/plain": [
       "RandomForestRegressor(max_features=5, n_estimators=139, random_state=42)"
      ]
     },
     "execution_count": 22,
     "metadata": {},
     "output_type": "execute_result"
    }
   ],
   "source": [
    "model3_search = RandomForestRegressor(random_state=42, max_features=5, n_estimators=139)\n",
    "model3_search.fit(housing_tr, housing_labels)"
   ]
  },
  {
   "cell_type": "code",
   "execution_count": 23,
   "id": "78e3a507",
   "metadata": {
    "ExecuteTime": {
     "end_time": "2023-06-27T13:21:30.530443Z",
     "start_time": "2023-06-27T13:17:09.929929Z"
    }
   },
   "outputs": [
    {
     "name": "stdout",
     "output_type": "stream",
     "text": [
      "Root mean square, for the RandomForestRegressor(max_features=5, n_estimators=139, random_state=42), is:  18162.107993201567\n",
      "The results for RandomForestRegressor(max_features=5, n_estimators=139, random_state=42) are:\n",
      "Root mean square is:  [49087.64312861 46561.99649892 48818.90794965 49696.96853018\n",
      " 47909.47389098 52614.88227262 48141.55978733 48417.09153081\n",
      " 51582.615322   49311.46412694]\n",
      "Mean:  49214.26030380455\n",
      "Standard deviation:  1676.6413390918215\n"
     ]
    }
   ],
   "source": [
    "evaluate_rmse(model3_search, housing_tr, housing_labels)\n",
    "evaluate_cross_val_rmse(model3_search, housing_tr, housing_labels, 10)"
   ]
  },
  {
   "cell_type": "markdown",
   "id": "4c8c2cef",
   "metadata": {
    "ExecuteTime": {
     "end_time": "2023-06-27T12:40:32.154544Z",
     "start_time": "2023-06-27T12:40:27.782035Z"
    }
   },
   "source": [
    "# Testing our model on test set"
   ]
  },
  {
   "cell_type": "code",
   "execution_count": 24,
   "id": "754eedcf",
   "metadata": {
    "ExecuteTime": {
     "end_time": "2023-06-27T13:21:37.047902Z",
     "start_time": "2023-06-27T13:21:30.534432Z"
    }
   },
   "outputs": [
    {
     "data": {
      "text/html": [
       "<style>#sk-container-id-4 {color: black;background-color: white;}#sk-container-id-4 pre{padding: 0;}#sk-container-id-4 div.sk-toggleable {background-color: white;}#sk-container-id-4 label.sk-toggleable__label {cursor: pointer;display: block;width: 100%;margin-bottom: 0;padding: 0.3em;box-sizing: border-box;text-align: center;}#sk-container-id-4 label.sk-toggleable__label-arrow:before {content: \"▸\";float: left;margin-right: 0.25em;color: #696969;}#sk-container-id-4 label.sk-toggleable__label-arrow:hover:before {color: black;}#sk-container-id-4 div.sk-estimator:hover label.sk-toggleable__label-arrow:before {color: black;}#sk-container-id-4 div.sk-toggleable__content {max-height: 0;max-width: 0;overflow: hidden;text-align: left;background-color: #f0f8ff;}#sk-container-id-4 div.sk-toggleable__content pre {margin: 0.2em;color: black;border-radius: 0.25em;background-color: #f0f8ff;}#sk-container-id-4 input.sk-toggleable__control:checked~div.sk-toggleable__content {max-height: 200px;max-width: 100%;overflow: auto;}#sk-container-id-4 input.sk-toggleable__control:checked~label.sk-toggleable__label-arrow:before {content: \"▾\";}#sk-container-id-4 div.sk-estimator input.sk-toggleable__control:checked~label.sk-toggleable__label {background-color: #d4ebff;}#sk-container-id-4 div.sk-label input.sk-toggleable__control:checked~label.sk-toggleable__label {background-color: #d4ebff;}#sk-container-id-4 input.sk-hidden--visually {border: 0;clip: rect(1px 1px 1px 1px);clip: rect(1px, 1px, 1px, 1px);height: 1px;margin: -1px;overflow: hidden;padding: 0;position: absolute;width: 1px;}#sk-container-id-4 div.sk-estimator {font-family: monospace;background-color: #f0f8ff;border: 1px dotted black;border-radius: 0.25em;box-sizing: border-box;margin-bottom: 0.5em;}#sk-container-id-4 div.sk-estimator:hover {background-color: #d4ebff;}#sk-container-id-4 div.sk-parallel-item::after {content: \"\";width: 100%;border-bottom: 1px solid gray;flex-grow: 1;}#sk-container-id-4 div.sk-label:hover label.sk-toggleable__label {background-color: #d4ebff;}#sk-container-id-4 div.sk-serial::before {content: \"\";position: absolute;border-left: 1px solid gray;box-sizing: border-box;top: 0;bottom: 0;left: 50%;z-index: 0;}#sk-container-id-4 div.sk-serial {display: flex;flex-direction: column;align-items: center;background-color: white;padding-right: 0.2em;padding-left: 0.2em;position: relative;}#sk-container-id-4 div.sk-item {position: relative;z-index: 1;}#sk-container-id-4 div.sk-parallel {display: flex;align-items: stretch;justify-content: center;background-color: white;position: relative;}#sk-container-id-4 div.sk-item::before, #sk-container-id-4 div.sk-parallel-item::before {content: \"\";position: absolute;border-left: 1px solid gray;box-sizing: border-box;top: 0;bottom: 0;left: 50%;z-index: -1;}#sk-container-id-4 div.sk-parallel-item {display: flex;flex-direction: column;z-index: 1;position: relative;background-color: white;}#sk-container-id-4 div.sk-parallel-item:first-child::after {align-self: flex-end;width: 50%;}#sk-container-id-4 div.sk-parallel-item:last-child::after {align-self: flex-start;width: 50%;}#sk-container-id-4 div.sk-parallel-item:only-child::after {width: 0;}#sk-container-id-4 div.sk-dashed-wrapped {border: 1px dashed gray;margin: 0 0.4em 0.5em 0.4em;box-sizing: border-box;padding-bottom: 0.4em;background-color: white;}#sk-container-id-4 div.sk-label label {font-family: monospace;font-weight: bold;display: inline-block;line-height: 1.2em;}#sk-container-id-4 div.sk-label-container {text-align: center;}#sk-container-id-4 div.sk-container {/* jupyter's `normalize.less` sets `[hidden] { display: none; }` but bootstrap.min.css set `[hidden] { display: none !important; }` so we also need the `!important` here to be able to override the default hidden behavior on the sphinx rendered scikit-learn.org. See: https://github.com/scikit-learn/scikit-learn/issues/21755 */display: inline-block !important;position: relative;}#sk-container-id-4 div.sk-text-repr-fallback {display: none;}</style><div id=\"sk-container-id-4\" class=\"sk-top-container\"><div class=\"sk-text-repr-fallback\"><pre>RandomForestRegressor(max_features=5, n_estimators=139, random_state=42)</pre><b>In a Jupyter environment, please rerun this cell to show the HTML representation or trust the notebook. <br />On GitHub, the HTML representation is unable to render, please try loading this page with nbviewer.org.</b></div><div class=\"sk-container\" hidden><div class=\"sk-item\"><div class=\"sk-estimator sk-toggleable\"><input class=\"sk-toggleable__control sk-hidden--visually\" id=\"sk-estimator-id-29\" type=\"checkbox\" checked><label for=\"sk-estimator-id-29\" class=\"sk-toggleable__label sk-toggleable__label-arrow\">RandomForestRegressor</label><div class=\"sk-toggleable__content\"><pre>RandomForestRegressor(max_features=5, n_estimators=139, random_state=42)</pre></div></div></div></div></div>"
      ],
      "text/plain": [
       "RandomForestRegressor(max_features=5, n_estimators=139, random_state=42)"
      ]
     },
     "execution_count": 24,
     "metadata": {},
     "output_type": "execute_result"
    }
   ],
   "source": [
    "x_test = strat_test_set.drop(\"median_house_value\", axis=1)\n",
    "y_test = strat_test_set[\"median_house_value\"].copy()\n",
    "\n",
    "x_test_tr = preparing.fit_transform(x_test)\n",
    "\n",
    "model3_search.fit(x_test_tr, y_test)"
   ]
  },
  {
   "cell_type": "code",
   "execution_count": 25,
   "id": "ad01f8c6",
   "metadata": {
    "ExecuteTime": {
     "end_time": "2023-06-27T13:22:37.367506Z",
     "start_time": "2023-06-27T13:21:37.051183Z"
    }
   },
   "outputs": [
    {
     "name": "stdout",
     "output_type": "stream",
     "text": [
      "Evaluating final model\n",
      "[103600. 162100. 123700. 126500.  65200.]\n",
      "[ 95200. 155500. 124200. 128000.  59300.]\n",
      "\n",
      "\n",
      "Root mean square, for the RandomForestRegressor(max_features=5, n_estimators=139, random_state=42), is:  18991.60566653476\n",
      "\n",
      "\n",
      "The results for RandomForestRegressor(max_features=5, n_estimators=139, random_state=42) are:\n",
      "Root mean square is:  [54444.16135454 55109.79499777 48068.55627573 52154.54524575\n",
      " 48381.34200482 52429.79455512 53369.88675132 51696.23128263\n",
      " 50214.32466966 49127.1921166 ]\n",
      "Mean:  51499.58292539329\n",
      "Standard deviation:  2351.8215678662823\n"
     ]
    }
   ],
   "source": [
    "print(\"Evaluating final model\")\n",
    "predictions_model3_search = model3_search.predict(x_test_tr)\n",
    "print(predictions_model3_search[:5].round(-2))\n",
    "print(y_test.iloc[:5].values)\n",
    "print(\"\\n\")\n",
    "evaluate_rmse(model3_search, x_test_tr, y_test)\n",
    "print(\"\\n\")\n",
    "evaluate_cross_val_rmse(model3_search, x_test_tr, y_test, 10)"
   ]
  },
  {
   "cell_type": "markdown",
   "id": "349dd55f",
   "metadata": {},
   "source": [
    "As we can see our model is working fine on the test set. However, there is still some error left, this error can be reduced by gathering more data, or by creating more features which will help model in learning from data more clearly. "
   ]
  },
  {
   "cell_type": "markdown",
   "id": "aacbd155",
   "metadata": {},
   "source": [
    "Saving our model"
   ]
  },
  {
   "cell_type": "code",
   "execution_count": 26,
   "id": "0cd66fbc",
   "metadata": {
    "ExecuteTime": {
     "end_time": "2023-06-27T13:22:37.584603Z",
     "start_time": "2023-06-27T13:22:37.371274Z"
    }
   },
   "outputs": [
    {
     "data": {
      "text/plain": [
       "['ml_project_california_housing.joblib']"
      ]
     },
     "execution_count": 26,
     "metadata": {},
     "output_type": "execute_result"
    }
   ],
   "source": [
    "from joblib import dump, load\n",
    "dump(model3_search, 'ml_project_california_housing.joblib')"
   ]
  },
  {
   "cell_type": "code",
   "execution_count": null,
   "id": "e1f3acc3",
   "metadata": {},
   "outputs": [],
   "source": []
  }
 ],
 "metadata": {
  "kernelspec": {
   "display_name": "Python 3 (ipykernel)",
   "language": "python",
   "name": "python3"
  },
  "language_info": {
   "codemirror_mode": {
    "name": "ipython",
    "version": 3
   },
   "file_extension": ".py",
   "mimetype": "text/x-python",
   "name": "python",
   "nbconvert_exporter": "python",
   "pygments_lexer": "ipython3",
   "version": "3.9.12"
  }
 },
 "nbformat": 4,
 "nbformat_minor": 5
}
